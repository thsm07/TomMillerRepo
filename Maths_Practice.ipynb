{
 "cells": [
  {
   "cell_type": "code",
   "execution_count": null,
   "id": "a886e730",
   "metadata": {},
   "outputs": [],
   "source": [
    "distance = 100\n",
    "time = 140\n",
    "mph = distance / (time / 60)\n",
    "print(f\"Travelling {distance} miles in {time} minutes is equivalent to {mph:.2f} mph.\")"
   ]
  },
  {
   "cell_type": "markdown",
   "id": "3a832962",
   "metadata": {},
   "source": [
    "This is implementing maths into python."
   ]
  },
  {
   "cell_type": "code",
   "execution_count": null,
   "id": "c9447c8d",
   "metadata": {},
   "outputs": [],
   "source": [
    "total_minutes = 60\n",
    "minutes_passed = 20\n",
    "minutes_left = total_minutes - minutes_passed\n",
    "print(f\"There are {minutes_left} minutes left\")"
   ]
  },
  {
   "cell_type": "markdown",
   "id": "54d7e1c5",
   "metadata": {},
   "source": []
  }
 ],
 "metadata": {
  "kernelspec": {
   "display_name": "Python 3",
   "language": "python",
   "name": "python3"
  },
  "language_info": {
   "codemirror_mode": {
    "name": "ipython",
    "version": 3
   },
   "file_extension": ".py",
   "mimetype": "text/x-python",
   "name": "python",
   "nbconvert_exporter": "python",
   "pygments_lexer": "ipython3",
   "version": "3.11.9"
  }
 },
 "nbformat": 4,
 "nbformat_minor": 5
}
