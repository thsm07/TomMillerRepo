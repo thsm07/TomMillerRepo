{
 "cells": [
  {
   "cell_type": "code",
   "execution_count": null,
   "id": "9b8d211a",
   "metadata": {},
   "outputs": [],
   "source": [
    "name = input(\"Greetings! how are you?\")\n",
    "name = input(\"How shall i call you?\")\n",
    "current_year = int(input(\"what is the current year?\"))\n",
    "birth_year = int(input(\"what year were you born?\"))\n",
    "age = current_year - birth_year\n",
    "print(f\"hello, {name}! This year you will be {age} years old!\")\n",
    "\n"
   ]
  },
  {
   "cell_type": "markdown",
   "id": "c1007bc7",
   "metadata": {},
   "source": [
    "\"int\" is used when the program is going to be working with numbers so you must use \"int\" when you are going to ask a question such as \"How old are you?\"\n",
    "\n",
    "{name} is used when yor name is going to be used so at the start of the line you must make sure that after the print bracket you must add an \"f\""
   ]
  },
  {
   "cell_type": "code",
   "execution_count": null,
   "id": "cd0ac0f5",
   "metadata": {},
   "outputs": [],
   "source": [
    "print(\"Greetings! how are you?\")\n",
    "name = input(\"How shall i call you?\")\n",
    "current_year = int(input(\"what is the current year?\"))\n",
    "birth_year = int(input(\"what year were you born?\"))\n",
    "age = current_year - birth_year\n",
    "print(f\"hello, {name}! This year you will be {age} years old!\")\n"
   ]
  },
  {
   "cell_type": "markdown",
   "id": "a36f5508",
   "metadata": {},
   "source": [
    "\"name -\" would always be the answer to your name which is why i have removed the first \"name =\" as it would have immediately been overidden by the second answer which would have been my name and the fist one would have been my responce to \"how are you\"."
   ]
  },
  {
   "cell_type": "code",
   "execution_count": null,
   "id": "15f810d1",
   "metadata": {},
   "outputs": [],
   "source": [
    "name = input(\"Hello! How shall i call you?\")\n",
    "print(f\"Hello, {name}! How are you today?\")\n"
   ]
  },
  {
   "cell_type": "markdown",
   "id": "104a4d91",
   "metadata": {},
   "source": [
    "Print is used to finish the sentence instead of using \"name = input\" for a second time."
   ]
  },
  {
   "cell_type": "code",
   "execution_count": null,
   "id": "6b67bd61",
   "metadata": {},
   "outputs": [],
   "source": [
    "name = input(\"Hello! How shall i call you?\")\n",
    "name = input(f\"Hello, {name}! How are you today?\")"
   ]
  },
  {
   "cell_type": "markdown",
   "id": "e5f09d72",
   "metadata": {},
   "source": [
    "here it is unecessary to use \"name = input\" for both lines it must be used for the top line as this is what carries the code but the second line it should be print as it is the end of the convasation."
   ]
  }
 ],
 "metadata": {
  "kernelspec": {
   "display_name": "Python 3",
   "language": "python",
   "name": "python3"
  },
  "language_info": {
   "codemirror_mode": {
    "name": "ipython",
    "version": 3
   },
   "file_extension": ".py",
   "mimetype": "text/x-python",
   "name": "python",
   "nbconvert_exporter": "python",
   "pygments_lexer": "ipython3",
   "version": "3.11.9"
  }
 },
 "nbformat": 4,
 "nbformat_minor": 5
}
